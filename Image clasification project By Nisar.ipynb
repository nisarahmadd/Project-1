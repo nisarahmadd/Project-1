{
  "cells": [
    {
      "cell_type": "code",
      "execution_count": null,
      "metadata": {
        "id": "SBHFYgokjwxP"
      },
      "outputs": [],
      "source": [
        "from tensorflow.keras.layers import Dense,Input,Dropout,GlobalAveragePooling2D,Flatten,Conv2D,BatchNormalization, Activation, MaxPooling2D\n",
        "from tensorflow.keras.models import Model,Sequential\n",
        "import numpy as np\n",
        "from tensorflow.keras.preprocessing.image import ImageDataGenerator\n",
        "import seaborn as sns\n",
        "import matplotlib.pyplot as plt\n",
        "from zipfile import ZipFile\n",
        "import os\n"
      ]
    },
    {
      "cell_type": "code",
      "execution_count": null,
      "metadata": {
        "id": "VshPZm42kA0F"
      },
      "outputs": [],
      "source": [
        "#with ZipFile('/content/drive/MyDrive/facial_expression.zip','r') as zipobj:\n",
        "  #zipobj.extractall('drive/MyDrive/Colab Notebooks/origin')\n"
      ]
    },
    {
      "cell_type": "code",
      "execution_count": null,
      "metadata": {
        "id": "kzND7ZNiQcQL"
      },
      "outputs": [],
      "source": [
        "test_dir=\"/content/drive/MyDrive/Colab Notebooks/origin/Dataset/test\"\n",
        "train_dir=\"/content/drive/MyDrive/Colab Notebooks/origin/Dataset/train\"\n",
        "BATCH_SIZE=64"
      ]
    },
    {
      "cell_type": "code",
      "execution_count": null,
      "metadata": {
        "colab": {
          "base_uri": "https://localhost:8080/"
        },
        "id": "qGiIAZArk4Ah",
        "outputId": "e677a8c0-57ae-43ba-b7d5-327cd449efc2"
      },
      "outputs": [
        {
          "name": "stdout",
          "output_type": "stream",
          "text": [
            "anger: 4462\n",
            "disgust: 493\n",
            "fear: 4593\n",
            "happiness: 8110\n",
            "neutral: 5572\n",
            "sadness: 5483\n",
            "surprise: 1414\n"
          ]
        }
      ],
      "source": [
        "for classes in os.listdir(train_dir):\n",
        "    class_dir = os.path.join(train_dir, classes)\n",
        "    length = len(os.listdir(class_dir))\n",
        "    print(f\"{classes}: {length}\")"
      ]
    },
    {
      "cell_type": "code",
      "execution_count": null,
      "metadata": {
        "colab": {
          "base_uri": "https://localhost:8080/"
        },
        "id": "hBHJXkHbukXa",
        "outputId": "d00bee29-8ab2-46db-f0b1-be3a90b24323"
      },
      "outputs": [
        {
          "name": "stdout",
          "output_type": "stream",
          "text": [
            "anger: 491\n",
            "disgust: 55\n",
            "fear: 528\n",
            "happiness: 879\n",
            "neutral: 626\n",
            "sadness: 594\n",
            "surprise: 416\n"
          ]
        }
      ],
      "source": [
        "for classes in os.listdir(test_dir):\n",
        "    class_dir = os.path.join(test_dir, classes)\n",
        "    length = len(os.listdir(class_dir))\n",
        "    print(f\"{classes}: {length}\")"
      ]
    },
    {
      "cell_type": "code",
      "execution_count": null,
      "metadata": {
        "id": "x58LepIkXjxX"
      },
      "outputs": [],
      "source": [
        "import random\n",
        "import matplotlib.pyplot as plt\n",
        "import matplotlib.image as mpimg\n",
        "\n",
        "def view_random_image(target_dir, target_class):\n",
        "    target_folder = os.path.join(target_dir, target_class)\n",
        "    random_image = random.choice(os.listdir(target_folder))\n",
        "    img = mpimg.imread(os.path.join(target_folder, random_image))\n",
        "    plt.imshow(img)\n",
        "    plt.title(target_class)\n",
        "    plt.axis('off')\n",
        "    print(f\"Image Shape: {img.shape}\")\n",
        "\n",
        "    return img"
      ]
    },
    {
      "cell_type": "code",
      "execution_count": null,
      "metadata": {
        "id": "ed19qT5k80zN"
      },
      "outputs": [],
      "source": [
        "class_names = ['anger','disgust','fear','happiness','neutral','sadness','surprise']"
      ]
    },
    {
      "cell_type": "code",
      "execution_count": null,
      "metadata": {
        "colab": {
          "base_uri": "https://localhost:8080/"
        },
        "id": "lNTLTcH1DqGQ",
        "outputId": "1e6003de-63c0-4242-b3ee-bd47adcbd211"
      },
      "outputs": [
        {
          "name": "stdout",
          "output_type": "stream",
          "text": [
            "Found 30126 images belonging to 7 classes.\n",
            "Found 3589 images belonging to 7 classes.\n"
          ]
        }
      ],
      "source": [
        "train_datagen = ImageDataGenerator(rescale=1./255,\n",
        "                                   shear_range=0.2,\n",
        "                                    zoom_range=0.2,\n",
        "                                    horizontal_flip= True)\n",
        "test_datagen = ImageDataGenerator(rescale=1./255)\n",
        "training_set=train_datagen.flow_from_directory(train_dir,\n",
        "                                               target_size=(128,128),\n",
        "                                               batch_size=BATCH_SIZE,\n",
        "                                               class_mode='categorical')\n",
        "test_set=test_datagen.flow_from_directory(test_dir,\n",
        "                                               target_size=(128,128),\n",
        "                                               batch_size=BATCH_SIZE,\n",
        "                                               class_mode='categorical')"
      ]
    },
    {
      "cell_type": "markdown",
      "metadata": {
        "id": "g1-o7S1qOe3V"
      },
      "source": [
        "MODEL BUILDING: CNN(CLASSIFIER)"
      ]
    },
    {
      "cell_type": "code",
      "execution_count": null,
      "metadata": {
        "id": "5YASBv6ONrRZ"
      },
      "outputs": [],
      "source": [
        "#Initialising classsifier\n",
        "model=Sequential()\n",
        "\n",
        "#Step 1: Convolution\n",
        "model.add(Conv2D(16,(3,3), input_shape=(128,128,3), activation='relu'))\n",
        "\n",
        "#step 2: Pooling\n",
        "model.add(MaxPooling2D(pool_size=(2,2)))\n",
        "\n",
        "#step 3: ADDING A SECOND CONVOLUTIONAL LAYER\n",
        "model.add(Conv2D(32,(3,3), input_shape=(128,128,3), activation='relu'))\n",
        "model.add(MaxPooling2D(pool_size=(2,2)))\n",
        "\n",
        "model.add(Flatten())\n",
        "model.add(Dense(units=128,activation='relu'))\n",
        "model.add(Dense(units=7,activation='softmax'))\n",
        "\n",
        "model.compile(optimizer='adam',\n",
        "                   loss='categorical_crossentropy',\n",
        "                   metrics=['accuracy'])"
      ]
    },
    {
      "cell_type": "code",
      "execution_count": null,
      "metadata": {
        "colab": {
          "base_uri": "https://localhost:8080/"
        },
        "id": "KCn_p7TQT7jO",
        "outputId": "5463e8bf-52ab-4e4c-b2eb-a145bf193216"
      },
      "outputs": [
        {
          "name": "stdout",
          "output_type": "stream",
          "text": [
            "Model: \"sequential_1\"\n",
            "_________________________________________________________________\n",
            " Layer (type)                Output Shape              Param #   \n",
            "=================================================================\n",
            " conv2d_2 (Conv2D)           (None, 126, 126, 16)      448       \n",
            "                                                                 \n",
            " max_pooling2d_2 (MaxPooling  (None, 63, 63, 16)       0         \n",
            " 2D)                                                             \n",
            "                                                                 \n",
            " conv2d_3 (Conv2D)           (None, 61, 61, 32)        4640      \n",
            "                                                                 \n",
            " max_pooling2d_3 (MaxPooling  (None, 30, 30, 32)       0         \n",
            " 2D)                                                             \n",
            "                                                                 \n",
            " flatten_1 (Flatten)         (None, 28800)             0         \n",
            "                                                                 \n",
            " dense_2 (Dense)             (None, 128)               3686528   \n",
            "                                                                 \n",
            " dense_3 (Dense)             (None, 7)                 903       \n",
            "                                                                 \n",
            "=================================================================\n",
            "Total params: 3,692,519\n",
            "Trainable params: 3,692,519\n",
            "Non-trainable params: 0\n",
            "_________________________________________________________________\n"
          ]
        }
      ],
      "source": [
        "model.summary()"
      ]
    },
    {
      "cell_type": "code",
      "execution_count": null,
      "metadata": {
        "colab": {
          "base_uri": "https://localhost:8080/"
        },
        "id": "U-uihADVWxfS",
        "outputId": "019f24ee-52e4-4318-e1df-c600dce31570"
      },
      "outputs": [
        {
          "data": {
            "text/plain": [
              "(64, 7)"
            ]
          },
          "execution_count": 17,
          "metadata": {},
          "output_type": "execute_result"
        }
      ],
      "source": [
        "#training_set[0][1].shape\n",
        "test_set[0][1].shape"
      ]
    },
    {
      "cell_type": "code",
      "execution_count": 18,
      "metadata": {
        "colab": {
          "base_uri": "https://localhost:8080/"
        },
        "id": "N-Sz6TkHVa_u",
        "outputId": "fa4e9353-ea90-423b-c63c-3a7ee15df3d0"
      },
      "outputs": [
        {
          "name": "stdout",
          "output_type": "stream",
          "text": [
            "Epoch 1/20\n",
            "471/471 [==============================] - 6945s 15s/step - loss: 1.6637 - accuracy: 0.3339 - val_loss: 1.5875 - val_accuracy: 0.3834\n",
            "Epoch 2/20\n",
            "471/471 [==============================] - 358s 759ms/step - loss: 1.5182 - accuracy: 0.4038 - val_loss: 1.4569 - val_accuracy: 0.4416\n",
            "Epoch 3/20\n",
            "471/471 [==============================] - 363s 769ms/step - loss: 1.4253 - accuracy: 0.4422 - val_loss: 1.4369 - val_accuracy: 0.4492\n",
            "Epoch 4/20\n",
            "471/471 [==============================] - 355s 752ms/step - loss: 1.3674 - accuracy: 0.4637 - val_loss: 1.3791 - val_accuracy: 0.4726\n",
            "Epoch 5/20\n",
            "471/471 [==============================] - 358s 759ms/step - loss: 1.3284 - accuracy: 0.4800 - val_loss: 1.3238 - val_accuracy: 0.4756\n",
            "Epoch 6/20\n",
            "471/471 [==============================] - 358s 760ms/step - loss: 1.2883 - accuracy: 0.5005 - val_loss: 1.3210 - val_accuracy: 0.4870\n",
            "Epoch 7/20\n",
            "471/471 [==============================] - 355s 753ms/step - loss: 1.2662 - accuracy: 0.5085 - val_loss: 1.2911 - val_accuracy: 0.4854\n",
            "Epoch 8/20\n",
            "471/471 [==============================] - 357s 757ms/step - loss: 1.2378 - accuracy: 0.5207 - val_loss: 1.2950 - val_accuracy: 0.4915\n",
            "Epoch 9/20\n",
            "471/471 [==============================] - 358s 759ms/step - loss: 1.2119 - accuracy: 0.5318 - val_loss: 1.2771 - val_accuracy: 0.4968\n",
            "Epoch 10/20\n",
            "471/471 [==============================] - 355s 753ms/step - loss: 1.1945 - accuracy: 0.5400 - val_loss: 1.2773 - val_accuracy: 0.5107\n",
            "Epoch 11/20\n",
            "471/471 [==============================] - 364s 773ms/step - loss: 1.1738 - accuracy: 0.5493 - val_loss: 1.2762 - val_accuracy: 0.5074\n",
            "Epoch 12/20\n",
            "471/471 [==============================] - 364s 773ms/step - loss: 1.1508 - accuracy: 0.5594 - val_loss: 1.2967 - val_accuracy: 0.5032\n",
            "Epoch 13/20\n",
            "471/471 [==============================] - 366s 776ms/step - loss: 1.1388 - accuracy: 0.5618 - val_loss: 1.2513 - val_accuracy: 0.5272\n",
            "Epoch 14/20\n",
            "471/471 [==============================] - 362s 768ms/step - loss: 1.1188 - accuracy: 0.5702 - val_loss: 1.2663 - val_accuracy: 0.5052\n",
            "Epoch 15/20\n",
            "471/471 [==============================] - 363s 769ms/step - loss: 1.1081 - accuracy: 0.5765 - val_loss: 1.2713 - val_accuracy: 0.5118\n",
            "Epoch 16/20\n",
            "471/471 [==============================] - 363s 770ms/step - loss: 1.0854 - accuracy: 0.5881 - val_loss: 1.2589 - val_accuracy: 0.5205\n",
            "Epoch 17/20\n",
            "471/471 [==============================] - 360s 764ms/step - loss: 1.0663 - accuracy: 0.5916 - val_loss: 1.2692 - val_accuracy: 0.5171\n",
            "Epoch 18/20\n",
            "471/471 [==============================] - 356s 756ms/step - loss: 1.0596 - accuracy: 0.5965 - val_loss: 1.2806 - val_accuracy: 0.5227\n",
            "Epoch 19/20\n",
            "471/471 [==============================] - 367s 779ms/step - loss: 1.0422 - accuracy: 0.6016 - val_loss: 1.2456 - val_accuracy: 0.5380\n",
            "Epoch 20/20\n",
            "471/471 [==============================] - 361s 766ms/step - loss: 1.0263 - accuracy: 0.6107 - val_loss: 1.2662 - val_accuracy: 0.5252\n"
          ]
        }
      ],
      "source": [
        "history = model.fit(training_set,\n",
        "                    epochs=20,\n",
        "                    validation_data=test_set,\n",
        "                    steps_per_epoch=len(training_set),\n",
        "                    validation_steps=len(test_set))\n",
        "model.save('model1.h5')"
      ]
    },
    {
      "cell_type": "code",
      "execution_count": 19,
      "metadata": {
        "colab": {
          "base_uri": "https://localhost:8080/"
        },
        "id": "tlfaBO3xYAGs",
        "outputId": "e37bf070-5f6c-4ae8-a277-0293392dc577"
      },
      "outputs": [
        {
          "name": "stdout",
          "output_type": "stream",
          "text": [
            "57/57 [==============================] - 15s 262ms/step - loss: 1.2662 - accuracy: 0.5252\n"
          ]
        },
        {
          "data": {
            "text/plain": [
              "[1.2662240266799927, 0.5252159237861633]"
            ]
          },
          "execution_count": 19,
          "metadata": {},
          "output_type": "execute_result"
        }
      ],
      "source": [
        "model.evaluate(test_set)"
      ]
    },
    {
      "cell_type": "code",
      "execution_count": 21,
      "metadata": {
        "colab": {
          "base_uri": "https://localhost:8080/",
          "height": 472
        },
        "id": "-UP0XTZl-V7P",
        "outputId": "0df699de-cfa1-428d-e151-bd05a88988f5"
      },
      "outputs": [
        {
          "data": {
            "image/png": "[encoded data removed]",
            "text/plain": [
              "<Figure size 640x480 with 1 Axes>"
            ]
          },
          "metadata": {},
          "output_type": "display_data"
        }
      ],
      "source": [
        "import pandas as pd\n",
        "pd.DataFrame(history.history)[['loss','val_loss']].plot()\n",
        "plt.title('loss')\n",
        "plt.xlabel('epochs')\n",
        "plt.ylabel('loss');"
      ]
    },
    {
      "cell_type": "code",
      "execution_count": 22,
      "metadata": {
        "colab": {
          "base_uri": "https://localhost:8080/",
          "height": 472
        },
        "id": "zHez7wTr-8TM",
        "outputId": "eaa2e91d-65bd-4604-f054-fed3209008f9"
      },
      "outputs": [
        {
          "data": {
            "image/png": "[encoded data removed]",
            "text/plain": [
              "<Figure size 640x480 with 1 Axes>"
            ]
          },
          "metadata": {},
          "output_type": "display_data"
        }
      ],
      "source": [
        "pd.DataFrame(history.history)[['accuracy','val_loss']].plot()\n",
        "plt.title('accuracy')\n",
        "plt.xlabel('epochs')\n",
        "plt.ylabel('accuracy');"
      ]
    },
    {
      "cell_type": "code",
      "execution_count": 27,
      "metadata": {
        "colab": {
          "base_uri": "https://localhost:8080/"
        },
        "id": "CLNd7OCNAnRn",
        "outputId": "477f1f23-619f-4781-863f-fe23d97ac5e7"
      },
      "outputs": [
        {
          "name": "stdout",
          "output_type": "stream",
          "text": [
            "1/1 [==============================] - 0s 108ms/step\n"
          ]
        },
        {
          "data": {
            "text/plain": [
              "0"
            ]
          },
          "execution_count": 27,
          "metadata": {},
          "output_type": "execute_result"
        }
      ],
      "source": [
        "from tensorflow import keras\n",
        "model_path=\"model1.h5\"\n",
        "loaded_model=keras.models.load_model(model_path)\n",
        "\n",
        "import numpy as np\n",
        "import matplotlib.pyplot as plt\n",
        "import cv2\n",
        "from PIL import Image\n",
        "\n",
        "image=cv2.imread(\"/content/drive/MyDrive/Colab Notebooks/origin/Dataset/test/anger/104125363.png\")\n",
        "image_fromarray=Image.fromarray(image,'RGB')\n",
        "resize_image=image_fromarray.resize((128,128))\n",
        "expand_input=np.expand_dims(resize_image, axis=0)\n",
        "input_data=np.array(expand_input)\n",
        "input_data=input_data/255\n",
        "\n",
        "pred=loaded_model.predict(input_data)\n",
        "result=pred.argmax()\n",
        "result"
      ]
    },
    {
      "cell_type": "code",
      "execution_count": 28,
      "metadata": {
        "colab": {
          "base_uri": "https://localhost:8080/"
        },
        "id": "FhZdpJdjAZDY",
        "outputId": "96b15d8d-2f1d-4cdb-ab72-54ab40707277"
      },
      "outputs": [
        {
          "data": {
            "text/plain": [
              "{'anger': 0,\n",
              " 'disgust': 1,\n",
              " 'fear': 2,\n",
              " 'happiness': 3,\n",
              " 'neutral': 4,\n",
              " 'sadness': 5,\n",
              " 'surprise': 6}"
            ]
          },
          "execution_count": 28,
          "metadata": {},
          "output_type": "execute_result"
        }
      ],
      "source": [
        "training_set.class_indices"
      ]
    },
    {
      "cell_type": "code",
      "execution_count": null,
      "metadata": {
        "id": "SNC6s_7gCih7"
      },
      "outputs": [],
      "source": []
    }
  ],
  "metadata": {
    "colab": {
      "provenance": []
    },
    "kernelspec": {
      "display_name": "Python 3",
      "name": "python3"
    },
    "language_info": {
      "name": "python"
    }
  },
  "nbformat": 4,
  "nbformat_minor": 0
}
